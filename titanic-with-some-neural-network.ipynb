{
 "cells": [
  {
   "cell_type": "code",
   "execution_count": 1,
   "id": "9d384518",
   "metadata": {
    "execution": {
     "iopub.execute_input": "2022-06-03T10:32:25.927889Z",
     "iopub.status.busy": "2022-06-03T10:32:25.927390Z",
     "iopub.status.idle": "2022-06-03T10:32:25.932808Z",
     "shell.execute_reply": "2022-06-03T10:32:25.931872Z"
    },
    "papermill": {
     "duration": 0.018306,
     "end_time": "2022-06-03T10:32:25.937808",
     "exception": false,
     "start_time": "2022-06-03T10:32:25.919502",
     "status": "completed"
    },
    "tags": []
   },
   "outputs": [],
   "source": [
    "# Titanic with neural networks!"
   ]
  },
  {
   "cell_type": "code",
   "execution_count": 1,
   "id": "d34e05ae",
   "metadata": {
    "_cell_guid": "b1076dfc-b9ad-4769-8c92-a6c4dae69d19",
    "_uuid": "8f2839f25d086af736a60e9eeb907d3b93b6e0e5",
    "execution": {
     "iopub.execute_input": "2022-06-03T10:32:25.949513Z",
     "iopub.status.busy": "2022-06-03T10:32:25.949068Z",
     "iopub.status.idle": "2022-06-03T10:32:26.839906Z",
     "shell.execute_reply": "2022-06-03T10:32:26.838762Z"
    },
    "papermill": {
     "duration": 0.899954,
     "end_time": "2022-06-03T10:32:26.842777",
     "exception": false,
     "start_time": "2022-06-03T10:32:25.942823",
     "status": "completed"
    },
    "tags": []
   },
   "outputs": [],
   "source": [
    "# This Python 3 environment comes with many helpful analytics libraries installed\n",
    "# It is defined by the kaggle/python Docker image: https://github.com/kaggle/docker-python\n",
    "# For example, here's several helpful packages to load\n",
    "\n",
    "import numpy as np # linear algebra\n",
    "import pandas as pd # data processing, CSV file I/O (e.g. pd.read_csv)\n",
    "from scipy.stats import chi2_contingency\n",
    "\n",
    "# Input data files are available in the read-only \"../input/\" directory\n",
    "# For example, running this (by clicking run or pressing Shift+Enter) will list all files under the input directory\n",
    "\n",
    "import os\n",
    "for dirname, _, filenames in os.walk('/kaggle/input'):\n",
    "    for filename in filenames:\n",
    "        print(os.path.join(dirname, filename))\n",
    "\n",
    "# You can write up to 20GB to the current directory (/kaggle/working/) that gets preserved as output when you create a version using \"Save & Run All\" \n",
    "# You can also write temporary files to /kaggle/temp/, but they won't be saved outside of the current session"
   ]
  },
  {
   "cell_type": "code",
   "execution_count": 2,
   "id": "16e0d378",
   "metadata": {
    "execution": {
     "iopub.execute_input": "2022-06-03T10:32:26.854853Z",
     "iopub.status.busy": "2022-06-03T10:32:26.854424Z",
     "iopub.status.idle": "2022-06-03T10:32:34.302620Z",
     "shell.execute_reply": "2022-06-03T10:32:34.301466Z"
    },
    "papermill": {
     "duration": 7.457751,
     "end_time": "2022-06-03T10:32:34.305913",
     "exception": false,
     "start_time": "2022-06-03T10:32:26.848162",
     "status": "completed"
    },
    "tags": []
   },
   "outputs": [],
   "source": [
    "import tensorflow as tf\n",
    "import seaborn as sns\n",
    "import matplotlib.pyplot as plt\n",
    "from tensorflow import keras\n",
    "from tensorflow.keras import layers"
   ]
  },
  {
   "cell_type": "code",
   "execution_count": 3,
   "id": "b50b7643",
   "metadata": {
    "execution": {
     "iopub.execute_input": "2022-06-03T10:32:34.318307Z",
     "iopub.status.busy": "2022-06-03T10:32:34.317628Z",
     "iopub.status.idle": "2022-06-03T10:32:34.353207Z",
     "shell.execute_reply": "2022-06-03T10:32:34.351410Z"
    },
    "papermill": {
     "duration": 0.044595,
     "end_time": "2022-06-03T10:32:34.355787",
     "exception": false,
     "start_time": "2022-06-03T10:32:34.311192",
     "status": "completed"
    },
    "tags": []
   },
   "outputs": [
    {
     "name": "stdout",
     "output_type": "stream",
     "text": [
      "Index(['PassengerId', 'Survived', 'Pclass', 'Name', 'Sex', 'Age', 'SibSp',\n",
      "       'Parch', 'Ticket', 'Fare', 'Cabin', 'Embarked'],\n",
      "      dtype='object')\n"
     ]
    }
   ],
   "source": [
    "train_data = pd.read_csv(\"./Datasets/Titanic/train.csv\")\n",
    "test_data = pd.read_csv(\"./Datasets/Titanic/test.csv\")\n",
    "\n",
    "column_names = train_data.columns\n",
    "print(column_names)"
   ]
  },
  {
   "cell_type": "markdown",
   "id": "06760c85",
   "metadata": {
    "papermill": {
     "duration": 0.005031,
     "end_time": "2022-06-03T10:32:34.366300",
     "exception": false,
     "start_time": "2022-06-03T10:32:34.361269",
     "status": "completed"
    },
    "tags": []
   },
   "source": [
    "The data contained are the following (for my own reference):\n",
    "- survival (0 or 1)\n",
    "- pclass (ticket class, 1, 2 or 3)\n",
    "- sex\n",
    "- age\n",
    "- number of siblings / spouses aboard\n",
    "- number of children / parents aboard\n",
    "- ticket number\n",
    "- passenger fare\n",
    "- cabin number\n",
    "- embarked (C = Cherbourg, Q = Queenstown, S = Southampton)\n",
    "\n",
    "As a guess, survival might be determined by sex, age and class, but whether they had or not children aboard might also be important. Ticket number is probably related to the class (wild guess), as well as the cabin number. The fare is probably related to the class.\n",
    "\n",
    "Cabin number might play a role, as some cabin numbers were farther away from the bridge at the moment of the collision. However, these might all be useless without some sort of mapping of the possible values: e.g. it's useless to know the cabin number if we don't know which cabins were farther away from the bridge (although it might a way to reverse engineer it). \n"
   ]
  },
  {
   "cell_type": "code",
   "execution_count": 4,
   "id": "a13e2fb5",
   "metadata": {
    "execution": {
     "iopub.execute_input": "2022-06-03T10:32:34.379120Z",
     "iopub.status.busy": "2022-06-03T10:32:34.378142Z",
     "iopub.status.idle": "2022-06-03T10:32:34.393757Z",
     "shell.execute_reply": "2022-06-03T10:32:34.391816Z"
    },
    "papermill": {
     "duration": 0.024778,
     "end_time": "2022-06-03T10:32:34.396159",
     "exception": false,
     "start_time": "2022-06-03T10:32:34.371381",
     "status": "completed"
    },
    "tags": []
   },
   "outputs": [
    {
     "name": "stdout",
     "output_type": "stream",
     "text": [
      "0       NaN\n",
      "1       C85\n",
      "2       NaN\n",
      "3      C123\n",
      "4       NaN\n",
      "       ... \n",
      "886     NaN\n",
      "887     B42\n",
      "888     NaN\n",
      "889    C148\n",
      "890     NaN\n",
      "Name: Cabin, Length: 891, dtype: object\n",
      "0             A/5 21171\n",
      "1              PC 17599\n",
      "2      STON/O2. 3101282\n",
      "3                113803\n",
      "4                373450\n",
      "             ...       \n",
      "886              211536\n",
      "887              112053\n",
      "888          W./C. 6607\n",
      "889              111369\n",
      "890              370376\n",
      "Name: Ticket, Length: 891, dtype: object\n"
     ]
    }
   ],
   "source": [
    "print(train_data['Cabin'])\n",
    "print(train_data['Ticket'])"
   ]
  },
  {
   "cell_type": "markdown",
   "id": "5fc777c0",
   "metadata": {
    "papermill": {
     "duration": 0.004892,
     "end_time": "2022-06-03T10:32:34.406250",
     "exception": false,
     "start_time": "2022-06-03T10:32:34.401358",
     "status": "completed"
    },
    "tags": []
   },
   "source": [
    "Upon further look, the cabin data contains a lot of missing data, while the ticket data are quite unintellegible. I would then skip them..."
   ]
  },
  {
   "cell_type": "markdown",
   "id": "c9a18a32",
   "metadata": {
    "papermill": {
     "duration": 0.005174,
     "end_time": "2022-06-03T10:32:34.416554",
     "exception": false,
     "start_time": "2022-06-03T10:32:34.411380",
     "status": "completed"
    },
    "tags": []
   },
   "source": [
    "Let's start by setting down a model with:\n",
    "- Pclass\n",
    "- Sex\n",
    "- Age\n",
    "- SibSp\n",
    "- Parch"
   ]
  },
  {
   "cell_type": "code",
   "execution_count": 5,
   "id": "aad500f5",
   "metadata": {
    "execution": {
     "iopub.execute_input": "2022-06-03T10:32:34.429408Z",
     "iopub.status.busy": "2022-06-03T10:32:34.428704Z",
     "iopub.status.idle": "2022-06-03T10:32:34.453171Z",
     "shell.execute_reply": "2022-06-03T10:32:34.452059Z"
    },
    "papermill": {
     "duration": 0.033981,
     "end_time": "2022-06-03T10:32:34.455746",
     "exception": false,
     "start_time": "2022-06-03T10:32:34.421765",
     "status": "completed"
    },
    "tags": []
   },
   "outputs": [],
   "source": [
    "# deal with NA in the dataset, then split in features and labels\n",
    "features = ['Pclass', 'Sex', 'Age', 'SibSp', 'Parch']\n",
    "train_features = train_data[['Pclass', 'Sex', 'Age', 'SibSp', 'Parch', 'Survived']].dropna().copy()\n",
    "train_labels = train_features['Survived'].copy()\n",
    "train_features = pd.get_dummies(train_features[features])\n"
   ]
  },
  {
   "cell_type": "markdown",
   "id": "3688e628",
   "metadata": {
    "papermill": {
     "duration": 0.005104,
     "end_time": "2022-06-03T10:32:34.466374",
     "exception": false,
     "start_time": "2022-06-03T10:32:34.461270",
     "status": "completed"
    },
    "tags": []
   },
   "source": [
    "We now have our data. Let's start modelling."
   ]
  },
  {
   "cell_type": "code",
   "execution_count": 6,
   "id": "3898c2a4",
   "metadata": {
    "execution": {
     "iopub.execute_input": "2022-06-03T10:32:34.479305Z",
     "iopub.status.busy": "2022-06-03T10:32:34.478889Z",
     "iopub.status.idle": "2022-06-03T10:32:35.014309Z",
     "shell.execute_reply": "2022-06-03T10:32:35.013419Z"
    },
    "papermill": {
     "duration": 0.544664,
     "end_time": "2022-06-03T10:32:35.016803",
     "exception": false,
     "start_time": "2022-06-03T10:32:34.472139",
     "status": "completed"
    },
    "tags": []
   },
   "outputs": [],
   "source": [
    "normalizer = layers.Normalization(axis=-1)\n",
    "normalizer.adapt(np.array(train_features))"
   ]
  },
  {
   "cell_type": "code",
   "execution_count": 7,
   "id": "ef1e9c73",
   "metadata": {
    "execution": {
     "iopub.execute_input": "2022-06-03T10:32:35.029765Z",
     "iopub.status.busy": "2022-06-03T10:32:35.029324Z",
     "iopub.status.idle": "2022-06-03T10:32:38.294864Z",
     "shell.execute_reply": "2022-06-03T10:32:38.293762Z"
    },
    "papermill": {
     "duration": 3.274826,
     "end_time": "2022-06-03T10:32:38.297237",
     "exception": false,
     "start_time": "2022-06-03T10:32:35.022411",
     "status": "completed"
    },
    "tags": []
   },
   "outputs": [],
   "source": [
    "model = keras.Sequential([\n",
    "    normalizer,\n",
    "    layers.Dense(64, activation='relu'),\n",
    "    layers.Dense(32, activation='relu'),\n",
    "    layers.Dense(1, activation='sigmoid')\n",
    "])\n",
    "\n",
    "compiled_model = model.compile(loss='binary_crossentropy', \n",
    "                               optimizer='adam', metrics=['accuracy'])\n",
    "\n",
    "model_fit = model.fit(train_features, train_labels, epochs=20, \n",
    "                      verbose=0, validation_split=0.1)\n"
   ]
  },
  {
   "cell_type": "code",
   "execution_count": 8,
   "id": "c05ca96e",
   "metadata": {
    "execution": {
     "iopub.execute_input": "2022-06-03T10:32:38.312358Z",
     "iopub.status.busy": "2022-06-03T10:32:38.311833Z",
     "iopub.status.idle": "2022-06-03T10:32:38.529594Z",
     "shell.execute_reply": "2022-06-03T10:32:38.528629Z"
    },
    "papermill": {
     "duration": 0.226939,
     "end_time": "2022-06-03T10:32:38.531911",
     "exception": false,
     "start_time": "2022-06-03T10:32:38.304972",
     "status": "completed"
    },
    "tags": []
   },
   "outputs": [
    {
     "data": {
      "text/plain": [
       "<matplotlib.legend.Legend at 0x27cdd4b13d0>"
      ]
     },
     "execution_count": 8,
     "metadata": {},
     "output_type": "execute_result"
    },
    {
     "data": {
      "image/png": "[encoded data removed]",
      "text/plain": [
       "<Figure size 432x288 with 1 Axes>"
      ]
     },
     "metadata": {
      "needs_background": "light"
     },
     "output_type": "display_data"
    }
   ],
   "source": [
    "plt.plot(model_fit.history['accuracy'], label='accuracy')\n",
    "plt.plot(model_fit.history['val_accuracy'], label='validation accuracy')\n",
    "plt.xlabel('Epochs')\n",
    "plt.ylabel('Accuracy')\n",
    "plt.legend()"
   ]
  },
  {
   "cell_type": "code",
   "execution_count": 9,
   "id": "a73b645a",
   "metadata": {
    "execution": {
     "iopub.execute_input": "2022-06-03T10:32:38.545222Z",
     "iopub.status.busy": "2022-06-03T10:32:38.544835Z",
     "iopub.status.idle": "2022-06-03T10:32:38.762487Z",
     "shell.execute_reply": "2022-06-03T10:32:38.761450Z"
    },
    "papermill": {
     "duration": 0.226919,
     "end_time": "2022-06-03T10:32:38.764704",
     "exception": false,
     "start_time": "2022-06-03T10:32:38.537785",
     "status": "completed"
    },
    "tags": []
   },
   "outputs": [
    {
     "data": {
      "text/plain": [
       "<matplotlib.legend.Legend at 0x27cdcdb7370>"
      ]
     },
     "execution_count": 9,
     "metadata": {},
     "output_type": "execute_result"
    },
    {
     "data": {
      "image/png": "[encoded data removed]",
      "text/plain": [
       "<Figure size 432x288 with 1 Axes>"
      ]
     },
     "metadata": {
      "needs_background": "light"
     },
     "output_type": "display_data"
    }
   ],
   "source": [
    "plt.plot(model_fit.history['loss'], label='loss')\n",
    "plt.plot(model_fit.history['val_loss'], label='validation loss')\n",
    "plt.xlabel('Epochs')\n",
    "plt.ylabel('Loss')\n",
    "plt.legend()"
   ]
  },
  {
   "cell_type": "markdown",
   "id": "4c79b71f",
   "metadata": {
    "papermill": {
     "duration": 0.006248,
     "end_time": "2022-06-03T10:32:38.777178",
     "exception": false,
     "start_time": "2022-06-03T10:32:38.770930",
     "status": "completed"
    },
    "tags": []
   },
   "source": [
    "From testing around, with this kind of topology the sweet spot is reached at around 10-20 generations of testing. I think we are ready to try and submit!"
   ]
  },
  {
   "cell_type": "code",
   "execution_count": 10,
   "id": "357c1498",
   "metadata": {
    "execution": {
     "iopub.execute_input": "2022-06-03T10:32:38.790971Z",
     "iopub.status.busy": "2022-06-03T10:32:38.790594Z",
     "iopub.status.idle": "2022-06-03T10:32:38.967040Z",
     "shell.execute_reply": "2022-06-03T10:32:38.966067Z"
    },
    "papermill": {
     "duration": 0.186483,
     "end_time": "2022-06-03T10:32:38.969777",
     "exception": false,
     "start_time": "2022-06-03T10:32:38.783294",
     "status": "completed"
    },
    "tags": []
   },
   "outputs": [
    {
     "name": "stdout",
     "output_type": "stream",
     "text": [
      "14/14 [==============================] - 0s 2ms/step\n"
     ]
    }
   ],
   "source": [
    "test_features = pd.get_dummies(test_data[features])\n",
    "predictions = (model.predict(test_features) > 0.5).astype(\"int32\")\n",
    "predictions[:,0]\n",
    "\n",
    "output = pd.DataFrame({'PassengerId': test_data.PassengerId, 'Survived': predictions[:,0]})\n",
    "output.to_csv('dnn_submission.csv', index=False)"
   ]
  }
 ],
 "metadata": {
  "interpreter": {
   "hash": "25ad6a4be8b7cb5307e079b5c70053dc031a1417502bda203100eef0d9318af0"
  },
  "kernelspec": {
   "display_name": "Python 3.9.12 ('machinelearning')",
   "language": "python",
   "name": "python3"
  },
  "language_info": {
   "codemirror_mode": {
    "name": "ipython",
    "version": 3
   },
   "file_extension": ".py",
   "mimetype": "text/x-python",
   "name": "python",
   "nbconvert_exporter": "python",
   "pygments_lexer": "ipython3",
   "version": "3.9.12"
  },
  "papermill": {
   "default_parameters": {},
   "duration": 26.665715,
   "end_time": "2022-06-03T10:32:41.777488",
   "environment_variables": {},
   "exception": null,
   "input_path": "__notebook__.ipynb",
   "output_path": "__notebook__.ipynb",
   "parameters": {},
   "start_time": "2022-06-03T10:32:15.111773",
   "version": "2.3.4"
  }
 },
 "nbformat": 4,
 "nbformat_minor": 5
}
