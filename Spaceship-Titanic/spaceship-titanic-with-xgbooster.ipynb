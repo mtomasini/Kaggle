{
 "cells": [
  {
   "cell_type": "markdown",
   "id": "fd393e5b",
   "metadata": {
    "papermill": {
     "duration": 0.006858,
     "end_time": "2022-07-29T13:09:21.390461",
     "exception": false,
     "start_time": "2022-07-29T13:09:21.383603",
     "status": "completed"
    },
    "tags": []
   },
   "source": [
    "# Applying XGBooster to Spaceship Titanic\n",
    "I just studied XGBoosters from a podium solution of another challenge I was interested in. I found it very cool and wanted to apply it to this classification problems as a test to play around with."
   ]
  },
  {
   "cell_type": "code",
   "execution_count": 1,
   "id": "8fdd5173",
   "metadata": {
    "_cell_guid": "b1076dfc-b9ad-4769-8c92-a6c4dae69d19",
    "_uuid": "8f2839f25d086af736a60e9eeb907d3b93b6e0e5",
    "execution": {
     "iopub.execute_input": "2022-07-29T13:09:21.405214Z",
     "iopub.status.busy": "2022-07-29T13:09:21.404464Z",
     "iopub.status.idle": "2022-07-29T13:09:21.419676Z",
     "shell.execute_reply": "2022-07-29T13:09:21.418463Z"
    },
    "papermill": {
     "duration": 0.025575,
     "end_time": "2022-07-29T13:09:21.422043",
     "exception": false,
     "start_time": "2022-07-29T13:09:21.396468",
     "status": "completed"
    },
    "tags": []
   },
   "outputs": [
    {
     "name": "stdout",
     "output_type": "stream",
     "text": [
      "/kaggle/input/spaceship-titanic/sample_submission.csv\n",
      "/kaggle/input/spaceship-titanic/train.csv\n",
      "/kaggle/input/spaceship-titanic/test.csv\n"
     ]
    }
   ],
   "source": [
    "# This Python 3 environment comes with many helpful analytics libraries installed\n",
    "# It is defined by the kaggle/python Docker image: https://github.com/kaggle/docker-python\n",
    "# For example, here's several helpful packages to load\n",
    "\n",
    "import numpy as np # linear algebra\n",
    "import pandas as pd # data processing, CSV file I/O (e.g. pd.read_csv)\n",
    "\n",
    "# Input data files are available in the read-only \"../input/\" directory\n",
    "# For example, running this (by clicking run or pressing Shift+Enter) will list all files under the input directory\n",
    "\n",
    "import os\n",
    "for dirname, _, filenames in os.walk('/kaggle/input'):\n",
    "    for filename in filenames:\n",
    "        print(os.path.join(dirname, filename))\n",
    "\n",
    "# You can write up to 20GB to the current directory (/kaggle/working/) that gets preserved as output when you create a version using \"Save & Run All\" \n",
    "# You can also write temporary files to /kaggle/temp/, but they won't be saved outside of the current session"
   ]
  },
  {
   "cell_type": "code",
   "execution_count": 2,
   "id": "3202a7a7",
   "metadata": {
    "execution": {
     "iopub.execute_input": "2022-07-29T13:09:21.436396Z",
     "iopub.status.busy": "2022-07-29T13:09:21.435543Z",
     "iopub.status.idle": "2022-07-29T13:09:22.785185Z",
     "shell.execute_reply": "2022-07-29T13:09:22.784085Z"
    },
    "papermill": {
     "duration": 1.359856,
     "end_time": "2022-07-29T13:09:22.788041",
     "exception": false,
     "start_time": "2022-07-29T13:09:21.428185",
     "status": "completed"
    },
    "tags": []
   },
   "outputs": [],
   "source": [
    "from sklearn.model_selection import StratifiedKFold\n",
    "from sklearn.metrics import accuracy_score\n",
    "from xgboost import XGBClassifier"
   ]
  },
  {
   "cell_type": "markdown",
   "id": "249dab9e",
   "metadata": {
    "papermill": {
     "duration": 0.006256,
     "end_time": "2022-07-29T13:09:22.800292",
     "exception": false,
     "start_time": "2022-07-29T13:09:22.794036",
     "status": "completed"
    },
    "tags": []
   },
   "source": [
    "Let's start by importing data and saving useful variables:"
   ]
  },
  {
   "cell_type": "code",
   "execution_count": 3,
   "id": "788f70c4",
   "metadata": {
    "execution": {
     "iopub.execute_input": "2022-07-29T13:09:22.814367Z",
     "iopub.status.busy": "2022-07-29T13:09:22.813378Z",
     "iopub.status.idle": "2022-07-29T13:09:22.917741Z",
     "shell.execute_reply": "2022-07-29T13:09:22.916406Z"
    },
    "papermill": {
     "duration": 0.114091,
     "end_time": "2022-07-29T13:09:22.920333",
     "exception": false,
     "start_time": "2022-07-29T13:09:22.806242",
     "status": "completed"
    },
    "tags": []
   },
   "outputs": [
    {
     "name": "stdout",
     "output_type": "stream",
     "text": [
      "Index(['HomePlanet', 'CryoSleep', 'Cabin', 'Destination', 'Age', 'VIP',\n",
      "       'RoomService', 'FoodCourt', 'ShoppingMall', 'Spa', 'VRDeck', 'Name'],\n",
      "      dtype='object')\n"
     ]
    }
   ],
   "source": [
    "train_data_raw = pd.read_csv(\"../input/spaceship-titanic/train.csv\")\n",
    "test_data_raw = pd.read_csv(\"../input/spaceship-titanic/test.csv\")\n",
    "\n",
    "column_names = train_data_raw.columns\n",
    "raw_features = column_names.drop(['PassengerId', 'Transported'])\n",
    "\n",
    "train_data = train_data_raw[raw_features]\n",
    "test_data = test_data_raw[raw_features]\n",
    "\n",
    "response = train_data_raw['Transported']\n",
    "\n",
    "print(raw_features)"
   ]
  },
  {
   "cell_type": "markdown",
   "id": "1ccce257",
   "metadata": {
    "papermill": {
     "duration": 0.005772,
     "end_time": "2022-07-29T13:09:22.932407",
     "exception": false,
     "start_time": "2022-07-29T13:09:22.926635",
     "status": "completed"
    },
    "tags": []
   },
   "source": [
    "For simplicity, I will drop `Cabin` and `Name`:"
   ]
  },
  {
   "cell_type": "code",
   "execution_count": 4,
   "id": "2eae957c",
   "metadata": {
    "execution": {
     "iopub.execute_input": "2022-07-29T13:09:22.946462Z",
     "iopub.status.busy": "2022-07-29T13:09:22.945616Z",
     "iopub.status.idle": "2022-07-29T13:09:22.956081Z",
     "shell.execute_reply": "2022-07-29T13:09:22.955277Z"
    },
    "papermill": {
     "duration": 0.02005,
     "end_time": "2022-07-29T13:09:22.958452",
     "exception": false,
     "start_time": "2022-07-29T13:09:22.938402",
     "status": "completed"
    },
    "tags": []
   },
   "outputs": [],
   "source": [
    "train_data = train_data.drop(['Cabin', 'Name'], axis=1)\n",
    "test_data = test_data.drop(['Cabin', 'Name'], axis=1)"
   ]
  },
  {
   "cell_type": "markdown",
   "id": "72b70834",
   "metadata": {
    "papermill": {
     "duration": 0.005987,
     "end_time": "2022-07-29T13:09:22.970611",
     "exception": false,
     "start_time": "2022-07-29T13:09:22.964624",
     "status": "completed"
    },
    "tags": []
   },
   "source": [
    "I also code `Destination` and `HomePlanet` as categoricals, with one-hot encoding."
   ]
  },
  {
   "cell_type": "code",
   "execution_count": 5,
   "id": "4b513655",
   "metadata": {
    "execution": {
     "iopub.execute_input": "2022-07-29T13:09:22.984919Z",
     "iopub.status.busy": "2022-07-29T13:09:22.983899Z",
     "iopub.status.idle": "2022-07-29T13:09:23.003114Z",
     "shell.execute_reply": "2022-07-29T13:09:23.002125Z"
    },
    "papermill": {
     "duration": 0.029434,
     "end_time": "2022-07-29T13:09:23.006007",
     "exception": false,
     "start_time": "2022-07-29T13:09:22.976573",
     "status": "completed"
    },
    "tags": []
   },
   "outputs": [],
   "source": [
    "train_data = pd.get_dummies(train_data, columns=['Destination', 'HomePlanet'])\n",
    "test_data = pd.get_dummies(test_data, columns=['Destination', 'HomePlanet'])"
   ]
  },
  {
   "cell_type": "markdown",
   "id": "c5e2d2fc",
   "metadata": {
    "papermill": {
     "duration": 0.005789,
     "end_time": "2022-07-29T13:09:23.017848",
     "exception": false,
     "start_time": "2022-07-29T13:09:23.012059",
     "status": "completed"
    },
    "tags": []
   },
   "source": [
    "In my previous attempt I classified the luxury categories based on whether the passenger had paid anything for it or not. In this case I prefer to leave these features as is. Next, I am going to fill out NaN values, and then change booleans (features `Cryosleep` and `VIP`) with 1 and 0:"
   ]
  },
  {
   "cell_type": "code",
   "execution_count": 6,
   "id": "b67a44d5",
   "metadata": {
    "execution": {
     "iopub.execute_input": "2022-07-29T13:09:23.032229Z",
     "iopub.status.busy": "2022-07-29T13:09:23.031416Z",
     "iopub.status.idle": "2022-07-29T13:09:23.052582Z",
     "shell.execute_reply": "2022-07-29T13:09:23.051619Z"
    },
    "papermill": {
     "duration": 0.031333,
     "end_time": "2022-07-29T13:09:23.055245",
     "exception": false,
     "start_time": "2022-07-29T13:09:23.023912",
     "status": "completed"
    },
    "tags": []
   },
   "outputs": [],
   "source": [
    "for column in train_data.columns:\n",
    "    if column == 'Age':\n",
    "        train_data[column] = train_data[column].fillna(np.nanmean(train_data['Age']))\n",
    "    else: \n",
    "        train_data[column] = train_data[column].fillna(0)\n",
    "\n",
    "for column in test_data.columns:\n",
    "    if column == 'Age':\n",
    "        test_data[column] = test_data[column].fillna(np.nanmean(test_data['Age']))\n",
    "    else: \n",
    "        test_data[column] = test_data[column].fillna(0)"
   ]
  },
  {
   "cell_type": "code",
   "execution_count": 7,
   "id": "a69f11bf",
   "metadata": {
    "execution": {
     "iopub.execute_input": "2022-07-29T13:09:23.069929Z",
     "iopub.status.busy": "2022-07-29T13:09:23.068867Z",
     "iopub.status.idle": "2022-07-29T13:09:23.096707Z",
     "shell.execute_reply": "2022-07-29T13:09:23.095524Z"
    },
    "papermill": {
     "duration": 0.038009,
     "end_time": "2022-07-29T13:09:23.099398",
     "exception": false,
     "start_time": "2022-07-29T13:09:23.061389",
     "status": "completed"
    },
    "tags": []
   },
   "outputs": [],
   "source": [
    "train_data['CryoSleep'] = train_data['CryoSleep'].apply(lambda x: int(x))\n",
    "train_data['VIP'] = train_data['VIP'].apply(lambda x: int(x))\n",
    "test_data['CryoSleep'] = test_data['CryoSleep'].apply(lambda x: int(x))\n",
    "test_data['VIP'] = test_data['VIP'].apply(lambda x: int(x))"
   ]
  },
  {
   "cell_type": "markdown",
   "id": "d371ef6b",
   "metadata": {
    "papermill": {
     "duration": 0.005802,
     "end_time": "2022-07-29T13:09:23.111351",
     "exception": false,
     "start_time": "2022-07-29T13:09:23.105549",
     "status": "completed"
    },
    "tags": []
   },
   "source": [
    "## Model\n",
    "It's now time to train the XGB model:"
   ]
  },
  {
   "cell_type": "code",
   "execution_count": 8,
   "id": "19ac8fe4",
   "metadata": {
    "execution": {
     "iopub.execute_input": "2022-07-29T13:09:23.125979Z",
     "iopub.status.busy": "2022-07-29T13:09:23.125170Z",
     "iopub.status.idle": "2022-07-29T13:09:23.130422Z",
     "shell.execute_reply": "2022-07-29T13:09:23.129519Z"
    },
    "papermill": {
     "duration": 0.015255,
     "end_time": "2022-07-29T13:09:23.132815",
     "exception": false,
     "start_time": "2022-07-29T13:09:23.117560",
     "status": "completed"
    },
    "tags": []
   },
   "outputs": [],
   "source": [
    "features = train_data.columns"
   ]
  },
  {
   "cell_type": "markdown",
   "id": "82f437fd",
   "metadata": {
    "papermill": {
     "duration": 0.005937,
     "end_time": "2022-07-29T13:09:23.144965",
     "exception": false,
     "start_time": "2022-07-29T13:09:23.139028",
     "status": "completed"
    },
    "tags": []
   },
   "source": [
    "We define a k-fold stratified classifier to test different parameters for the model (found in another notebook, ask for details):"
   ]
  },
  {
   "cell_type": "code",
   "execution_count": 9,
   "id": "97a5a561",
   "metadata": {
    "execution": {
     "iopub.execute_input": "2022-07-29T13:09:23.160100Z",
     "iopub.status.busy": "2022-07-29T13:09:23.159289Z",
     "iopub.status.idle": "2022-07-29T13:09:23.168538Z",
     "shell.execute_reply": "2022-07-29T13:09:23.167690Z"
    },
    "papermill": {
     "duration": 0.019538,
     "end_time": "2022-07-29T13:09:23.171065",
     "exception": false,
     "start_time": "2022-07-29T13:09:23.151527",
     "status": "completed"
    },
    "tags": []
   },
   "outputs": [],
   "source": [
    "def five_fold_cv(model, X_train, Y_train, verbose = True):\n",
    "    skf = StratifiedKFold(n_splits = 5)\n",
    "    fold = 1\n",
    "    scores = []\n",
    "\n",
    "    for train_index, test_index in skf.split(X_train, Y_train):\n",
    "        X_train_fold, X_test_fold = X_train.iloc[train_index], X_train.iloc[test_index]\n",
    "        Y_train_fold, Y_test_fold = Y_train.iloc[train_index], Y_train.iloc[test_index]\n",
    "\n",
    "        model.fit(X_train_fold, Y_train_fold)\n",
    "        \n",
    "        preds = model.predict(X_test_fold)\n",
    "        # preds = [x[1] for x in preds]\n",
    "\n",
    "        score = accuracy_score(Y_test_fold, preds)\n",
    "        scores.append(score)\n",
    "        if verbose:\n",
    "            print('Fold', fold, '    ', score)\n",
    "        fold += 1\n",
    "\n",
    "    avg = np.mean(scores)\n",
    "    if verbose:\n",
    "        print()\n",
    "        print('Average', avg)\n",
    "    return avg"
   ]
  },
  {
   "cell_type": "markdown",
   "id": "28d5eb08",
   "metadata": {
    "papermill": {
     "duration": 0.0068,
     "end_time": "2022-07-29T13:09:23.185731",
     "exception": false,
     "start_time": "2022-07-29T13:09:23.178931",
     "status": "completed"
    },
    "tags": []
   },
   "source": [
    "Through some tuning of the parameters, we choose `learning_rate = 0.2`, `max_depth = 5` and `reg_lambda = 0.8`. None of these really changes much in the final result."
   ]
  },
  {
   "cell_type": "code",
   "execution_count": 10,
   "id": "92c4a5f6",
   "metadata": {
    "execution": {
     "iopub.execute_input": "2022-07-29T13:09:23.200503Z",
     "iopub.status.busy": "2022-07-29T13:09:23.199419Z",
     "iopub.status.idle": "2022-07-29T13:09:25.934376Z",
     "shell.execute_reply": "2022-07-29T13:09:25.933027Z"
    },
    "papermill": {
     "duration": 2.745361,
     "end_time": "2022-07-29T13:09:25.937040",
     "exception": false,
     "start_time": "2022-07-29T13:09:23.191679",
     "status": "completed"
    },
    "tags": []
   },
   "outputs": [
    {
     "name": "stdout",
     "output_type": "stream",
     "text": [
      "Fold 1      0.7918343875790684\n",
      "Fold 2      0.7855089131684876\n",
      "Fold 3      0.7906843013225991\n",
      "Fold 4      0.8032220943613348\n",
      "Fold 5      0.8037974683544303\n",
      "\n",
      "Average 0.795009432957184\n"
     ]
    }
   ],
   "source": [
    "model = XGBClassifier(eval_metric=accuracy_score, objective = 'binary:logistic',\n",
    "                     learning_rate=0.2, max_depth=5, subsample=1, reg_lambda=0.8)\n",
    "score = five_fold_cv(model, train_data, response, verbose=True)"
   ]
  },
  {
   "cell_type": "markdown",
   "id": "39b5d7c5",
   "metadata": {
    "papermill": {
     "duration": 0.006928,
     "end_time": "2022-07-29T13:09:25.951431",
     "exception": false,
     "start_time": "2022-07-29T13:09:25.944503",
     "status": "completed"
    },
    "tags": []
   },
   "source": [
    "## Predictions\n",
    "Time to try some predictions."
   ]
  },
  {
   "cell_type": "code",
   "execution_count": 11,
   "id": "dd63d282",
   "metadata": {
    "execution": {
     "iopub.execute_input": "2022-07-29T13:09:25.965966Z",
     "iopub.status.busy": "2022-07-29T13:09:25.965591Z",
     "iopub.status.idle": "2022-07-29T13:09:26.574138Z",
     "shell.execute_reply": "2022-07-29T13:09:26.573226Z"
    },
    "papermill": {
     "duration": 0.619013,
     "end_time": "2022-07-29T13:09:26.576804",
     "exception": false,
     "start_time": "2022-07-29T13:09:25.957791",
     "status": "completed"
    },
    "tags": []
   },
   "outputs": [],
   "source": [
    "model.fit(train_data, response)\n",
    "predictions = (model.predict(test_data) > 0.5).astype(\"bool\")"
   ]
  },
  {
   "cell_type": "code",
   "execution_count": 12,
   "id": "8f959b54",
   "metadata": {
    "execution": {
     "iopub.execute_input": "2022-07-29T13:09:26.594863Z",
     "iopub.status.busy": "2022-07-29T13:09:26.593784Z",
     "iopub.status.idle": "2022-07-29T13:09:26.611131Z",
     "shell.execute_reply": "2022-07-29T13:09:26.610105Z"
    },
    "papermill": {
     "duration": 0.02874,
     "end_time": "2022-07-29T13:09:26.613578",
     "exception": false,
     "start_time": "2022-07-29T13:09:26.584838",
     "status": "completed"
    },
    "tags": []
   },
   "outputs": [],
   "source": [
    "output = pd.DataFrame({'PassengerId': test_data_raw.PassengerId, 'Transported': predictions})\n",
    "output.to_csv('spacetitanic_xgb.csv', index=False)"
   ]
  },
  {
   "cell_type": "markdown",
   "id": "52035c67",
   "metadata": {
    "papermill": {
     "duration": 0.005951,
     "end_time": "2022-07-29T13:09:26.625857",
     "exception": false,
     "start_time": "2022-07-29T13:09:26.619906",
     "status": "completed"
    },
    "tags": []
   },
   "source": []
  }
 ],
 "metadata": {
  "kernelspec": {
   "display_name": "Python 3.9.12 ('machinelearning')",
   "language": "python",
   "name": "python3"
  },
  "language_info": {
   "codemirror_mode": {
    "name": "ipython",
    "version": 3
   },
   "file_extension": ".py",
   "mimetype": "text/x-python",
   "name": "python",
   "nbconvert_exporter": "python",
   "pygments_lexer": "ipython3",
   "version": "3.9.12"
  },
  "papermill": {
   "default_parameters": {},
   "duration": 16.05508,
   "end_time": "2022-07-29T13:09:27.354241",
   "environment_variables": {},
   "exception": null,
   "input_path": "__notebook__.ipynb",
   "output_path": "__notebook__.ipynb",
   "parameters": {},
   "start_time": "2022-07-29T13:09:11.299161",
   "version": "2.3.4"
  },
  "vscode": {
   "interpreter": {
    "hash": "25ad6a4be8b7cb5307e079b5c70053dc031a1417502bda203100eef0d9318af0"
   }
  }
 },
 "nbformat": 4,
 "nbformat_minor": 5
}
