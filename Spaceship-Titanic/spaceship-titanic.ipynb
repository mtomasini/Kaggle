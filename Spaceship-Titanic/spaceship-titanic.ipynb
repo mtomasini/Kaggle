{
 "cells": [
  {
   "cell_type": "markdown",
   "metadata": {},
   "source": [
    "# Spaceship Titanic - Challenge\n",
    "\n",
    "This is an evolution of the Titanic entry challenge on Kaggle. I want to train using a Deep Neural Network Model (DNN model) and the Keras Tuner. It will closely follow what I had done for the Titanic challenge, except that it will make use of the tuner later."
   ]
  }
 ],
 "metadata": {
  "language_info": {
   "name": "python"
  },
  "orig_nbformat": 4
 },
 "nbformat": 4,
 "nbformat_minor": 2
}
