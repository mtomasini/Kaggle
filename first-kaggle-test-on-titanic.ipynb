{
 "cells": [
  {
   "cell_type": "markdown",
   "id": "4b573da3",
   "metadata": {
    "papermill": {
     "duration": 0.006271,
     "end_time": "2022-06-02T13:55:32.566588",
     "exception": false,
     "start_time": "2022-06-02T13:55:32.560317",
     "status": "completed"
    },
    "tags": []
   },
   "source": [
    "# Titanic survival\n",
    "This is my personal notebook to analyze the Titanic dataset. I will probably start by implementing the basic Tutorial, but possibly move up from there to use some techniques such as either a random effect model or a linear model with LASSO regression."
   ]
  },
  {
   "cell_type": "code",
   "execution_count": 1,
   "id": "3ddf326e",
   "metadata": {
    "_cell_guid": "b1076dfc-b9ad-4769-8c92-a6c4dae69d19",
    "_uuid": "8f2839f25d086af736a60e9eeb907d3b93b6e0e5",
    "execution": {
     "iopub.execute_input": "2022-06-02T13:55:32.581705Z",
     "iopub.status.busy": "2022-06-02T13:55:32.580748Z",
     "iopub.status.idle": "2022-06-02T13:55:32.599533Z",
     "shell.execute_reply": "2022-06-02T13:55:32.598367Z"
    },
    "papermill": {
     "duration": 0.028832,
     "end_time": "2022-06-02T13:55:32.603180",
     "exception": false,
     "start_time": "2022-06-02T13:55:32.574348",
     "status": "completed"
    },
    "tags": []
   },
   "outputs": [],
   "source": [
    "# This Python 3 environment comes with many helpful analytics libraries installed\n",
    "# It is defined by the kaggle/python Docker image: https://github.com/kaggle/docker-python\n",
    "# For example, here's several helpful packages to load\n",
    "\n",
    "import numpy as np # linear algebra\n",
    "import pandas as pd # data processing, CSV file I/O (e.g. pd.read_csv)\n",
    "\n",
    "# Input data files are available in the read-only \"../input/\" directory\n",
    "# For example, running this (by clicking run or pressing Shift+Enter) will list all files under the input directory\n",
    "\n",
    "import os\n",
    "for dirname, _, filenames in os.walk('/kaggle/input'):\n",
    "    for filename in filenames:\n",
    "        print(os.path.join(dirname, filename))\n",
    "\n",
    "# You can write up to 20GB to the current directory (/kaggle/working/) that gets preserved as output when you create a version using \"Save & Run All\" \n",
    "# You can also write temporary files to /kaggle/temp/, but they won't be saved outside of the current session"
   ]
  },
  {
   "cell_type": "markdown",
   "id": "4dda3f93",
   "metadata": {
    "papermill": {
     "duration": 0.003977,
     "end_time": "2022-06-02T13:55:32.611623",
     "exception": false,
     "start_time": "2022-06-02T13:55:32.607646",
     "status": "completed"
    },
    "tags": []
   },
   "source": [
    "Start by loading the data:"
   ]
  },
  {
   "cell_type": "code",
   "execution_count": 3,
   "id": "b9b75096",
   "metadata": {
    "execution": {
     "iopub.execute_input": "2022-06-02T13:55:32.622329Z",
     "iopub.status.busy": "2022-06-02T13:55:32.621625Z",
     "iopub.status.idle": "2022-06-02T13:55:32.663874Z",
     "shell.execute_reply": "2022-06-02T13:55:32.663025Z"
    },
    "papermill": {
     "duration": 0.050213,
     "end_time": "2022-06-02T13:55:32.666059",
     "exception": false,
     "start_time": "2022-06-02T13:55:32.615846",
     "status": "completed"
    },
    "tags": []
   },
   "outputs": [
    {
     "data": {
      "text/html": [
       "<div>\n",
       "<style scoped>\n",
       "    .dataframe tbody tr th:only-of-type {\n",
       "        vertical-align: middle;\n",
       "    }\n",
       "\n",
       "    .dataframe tbody tr th {\n",
       "        vertical-align: top;\n",
       "    }\n",
       "\n",
       "    .dataframe thead th {\n",
       "        text-align: right;\n",
       "    }\n",
       "</style>\n",
       "<table border=\"1\" class=\"dataframe\">\n",
       "  <thead>\n",
       "    <tr style=\"text-align: right;\">\n",
       "      <th></th>\n",
       "      <th>PassengerId</th>\n",
       "      <th>Survived</th>\n",
       "      <th>Pclass</th>\n",
       "      <th>Name</th>\n",
       "      <th>Sex</th>\n",
       "      <th>Age</th>\n",
       "      <th>SibSp</th>\n",
       "      <th>Parch</th>\n",
       "      <th>Ticket</th>\n",
       "      <th>Fare</th>\n",
       "      <th>Cabin</th>\n",
       "      <th>Embarked</th>\n",
       "    </tr>\n",
       "  </thead>\n",
       "  <tbody>\n",
       "    <tr>\n",
       "      <th>886</th>\n",
       "      <td>887</td>\n",
       "      <td>0</td>\n",
       "      <td>2</td>\n",
       "      <td>Montvila, Rev. Juozas</td>\n",
       "      <td>male</td>\n",
       "      <td>27.0</td>\n",
       "      <td>0</td>\n",
       "      <td>0</td>\n",
       "      <td>211536</td>\n",
       "      <td>13.00</td>\n",
       "      <td>NaN</td>\n",
       "      <td>S</td>\n",
       "    </tr>\n",
       "    <tr>\n",
       "      <th>887</th>\n",
       "      <td>888</td>\n",
       "      <td>1</td>\n",
       "      <td>1</td>\n",
       "      <td>Graham, Miss. Margaret Edith</td>\n",
       "      <td>female</td>\n",
       "      <td>19.0</td>\n",
       "      <td>0</td>\n",
       "      <td>0</td>\n",
       "      <td>112053</td>\n",
       "      <td>30.00</td>\n",
       "      <td>B42</td>\n",
       "      <td>S</td>\n",
       "    </tr>\n",
       "    <tr>\n",
       "      <th>888</th>\n",
       "      <td>889</td>\n",
       "      <td>0</td>\n",
       "      <td>3</td>\n",
       "      <td>Johnston, Miss. Catherine Helen \"Carrie\"</td>\n",
       "      <td>female</td>\n",
       "      <td>NaN</td>\n",
       "      <td>1</td>\n",
       "      <td>2</td>\n",
       "      <td>W./C. 6607</td>\n",
       "      <td>23.45</td>\n",
       "      <td>NaN</td>\n",
       "      <td>S</td>\n",
       "    </tr>\n",
       "    <tr>\n",
       "      <th>889</th>\n",
       "      <td>890</td>\n",
       "      <td>1</td>\n",
       "      <td>1</td>\n",
       "      <td>Behr, Mr. Karl Howell</td>\n",
       "      <td>male</td>\n",
       "      <td>26.0</td>\n",
       "      <td>0</td>\n",
       "      <td>0</td>\n",
       "      <td>111369</td>\n",
       "      <td>30.00</td>\n",
       "      <td>C148</td>\n",
       "      <td>C</td>\n",
       "    </tr>\n",
       "    <tr>\n",
       "      <th>890</th>\n",
       "      <td>891</td>\n",
       "      <td>0</td>\n",
       "      <td>3</td>\n",
       "      <td>Dooley, Mr. Patrick</td>\n",
       "      <td>male</td>\n",
       "      <td>32.0</td>\n",
       "      <td>0</td>\n",
       "      <td>0</td>\n",
       "      <td>370376</td>\n",
       "      <td>7.75</td>\n",
       "      <td>NaN</td>\n",
       "      <td>Q</td>\n",
       "    </tr>\n",
       "  </tbody>\n",
       "</table>\n",
       "</div>"
      ],
      "text/plain": [
       "     PassengerId  Survived  Pclass                                      Name  \\\n",
       "886          887         0       2                     Montvila, Rev. Juozas   \n",
       "887          888         1       1              Graham, Miss. Margaret Edith   \n",
       "888          889         0       3  Johnston, Miss. Catherine Helen \"Carrie\"   \n",
       "889          890         1       1                     Behr, Mr. Karl Howell   \n",
       "890          891         0       3                       Dooley, Mr. Patrick   \n",
       "\n",
       "        Sex   Age  SibSp  Parch      Ticket   Fare Cabin Embarked  \n",
       "886    male  27.0      0      0      211536  13.00   NaN        S  \n",
       "887  female  19.0      0      0      112053  30.00   B42        S  \n",
       "888  female   NaN      1      2  W./C. 6607  23.45   NaN        S  \n",
       "889    male  26.0      0      0      111369  30.00  C148        C  \n",
       "890    male  32.0      0      0      370376   7.75   NaN        Q  "
      ]
     },
     "execution_count": 3,
     "metadata": {},
     "output_type": "execute_result"
    }
   ],
   "source": [
    "train_data = pd.read_csv(\"./Datasets/Titanic/train.csv\")\n",
    "train_data.tail()"
   ]
  },
  {
   "cell_type": "code",
   "execution_count": 4,
   "id": "1dc68d0c",
   "metadata": {
    "execution": {
     "iopub.execute_input": "2022-06-02T13:55:32.678217Z",
     "iopub.status.busy": "2022-06-02T13:55:32.677462Z",
     "iopub.status.idle": "2022-06-02T13:55:32.704755Z",
     "shell.execute_reply": "2022-06-02T13:55:32.703435Z"
    },
    "papermill": {
     "duration": 0.036847,
     "end_time": "2022-06-02T13:55:32.707537",
     "exception": false,
     "start_time": "2022-06-02T13:55:32.670690",
     "status": "completed"
    },
    "tags": []
   },
   "outputs": [
    {
     "data": {
      "text/html": [
       "<div>\n",
       "<style scoped>\n",
       "    .dataframe tbody tr th:only-of-type {\n",
       "        vertical-align: middle;\n",
       "    }\n",
       "\n",
       "    .dataframe tbody tr th {\n",
       "        vertical-align: top;\n",
       "    }\n",
       "\n",
       "    .dataframe thead th {\n",
       "        text-align: right;\n",
       "    }\n",
       "</style>\n",
       "<table border=\"1\" class=\"dataframe\">\n",
       "  <thead>\n",
       "    <tr style=\"text-align: right;\">\n",
       "      <th></th>\n",
       "      <th>PassengerId</th>\n",
       "      <th>Pclass</th>\n",
       "      <th>Name</th>\n",
       "      <th>Sex</th>\n",
       "      <th>Age</th>\n",
       "      <th>SibSp</th>\n",
       "      <th>Parch</th>\n",
       "      <th>Ticket</th>\n",
       "      <th>Fare</th>\n",
       "      <th>Cabin</th>\n",
       "      <th>Embarked</th>\n",
       "    </tr>\n",
       "  </thead>\n",
       "  <tbody>\n",
       "    <tr>\n",
       "      <th>413</th>\n",
       "      <td>1305</td>\n",
       "      <td>3</td>\n",
       "      <td>Spector, Mr. Woolf</td>\n",
       "      <td>male</td>\n",
       "      <td>NaN</td>\n",
       "      <td>0</td>\n",
       "      <td>0</td>\n",
       "      <td>A.5. 3236</td>\n",
       "      <td>8.0500</td>\n",
       "      <td>NaN</td>\n",
       "      <td>S</td>\n",
       "    </tr>\n",
       "    <tr>\n",
       "      <th>414</th>\n",
       "      <td>1306</td>\n",
       "      <td>1</td>\n",
       "      <td>Oliva y Ocana, Dona. Fermina</td>\n",
       "      <td>female</td>\n",
       "      <td>39.0</td>\n",
       "      <td>0</td>\n",
       "      <td>0</td>\n",
       "      <td>PC 17758</td>\n",
       "      <td>108.9000</td>\n",
       "      <td>C105</td>\n",
       "      <td>C</td>\n",
       "    </tr>\n",
       "    <tr>\n",
       "      <th>415</th>\n",
       "      <td>1307</td>\n",
       "      <td>3</td>\n",
       "      <td>Saether, Mr. Simon Sivertsen</td>\n",
       "      <td>male</td>\n",
       "      <td>38.5</td>\n",
       "      <td>0</td>\n",
       "      <td>0</td>\n",
       "      <td>SOTON/O.Q. 3101262</td>\n",
       "      <td>7.2500</td>\n",
       "      <td>NaN</td>\n",
       "      <td>S</td>\n",
       "    </tr>\n",
       "    <tr>\n",
       "      <th>416</th>\n",
       "      <td>1308</td>\n",
       "      <td>3</td>\n",
       "      <td>Ware, Mr. Frederick</td>\n",
       "      <td>male</td>\n",
       "      <td>NaN</td>\n",
       "      <td>0</td>\n",
       "      <td>0</td>\n",
       "      <td>359309</td>\n",
       "      <td>8.0500</td>\n",
       "      <td>NaN</td>\n",
       "      <td>S</td>\n",
       "    </tr>\n",
       "    <tr>\n",
       "      <th>417</th>\n",
       "      <td>1309</td>\n",
       "      <td>3</td>\n",
       "      <td>Peter, Master. Michael J</td>\n",
       "      <td>male</td>\n",
       "      <td>NaN</td>\n",
       "      <td>1</td>\n",
       "      <td>1</td>\n",
       "      <td>2668</td>\n",
       "      <td>22.3583</td>\n",
       "      <td>NaN</td>\n",
       "      <td>C</td>\n",
       "    </tr>\n",
       "  </tbody>\n",
       "</table>\n",
       "</div>"
      ],
      "text/plain": [
       "     PassengerId  Pclass                          Name     Sex   Age  SibSp  \\\n",
       "413         1305       3            Spector, Mr. Woolf    male   NaN      0   \n",
       "414         1306       1  Oliva y Ocana, Dona. Fermina  female  39.0      0   \n",
       "415         1307       3  Saether, Mr. Simon Sivertsen    male  38.5      0   \n",
       "416         1308       3           Ware, Mr. Frederick    male   NaN      0   \n",
       "417         1309       3      Peter, Master. Michael J    male   NaN      1   \n",
       "\n",
       "     Parch              Ticket      Fare Cabin Embarked  \n",
       "413      0           A.5. 3236    8.0500   NaN        S  \n",
       "414      0            PC 17758  108.9000  C105        C  \n",
       "415      0  SOTON/O.Q. 3101262    7.2500   NaN        S  \n",
       "416      0              359309    8.0500   NaN        S  \n",
       "417      1                2668   22.3583   NaN        C  "
      ]
     },
     "execution_count": 4,
     "metadata": {},
     "output_type": "execute_result"
    }
   ],
   "source": [
    "test_data = pd.read_csv(\"./Datasets/Titanic/test.csv\")\n",
    "test_data.tail()"
   ]
  },
  {
   "cell_type": "markdown",
   "id": "d400da7b",
   "metadata": {
    "papermill": {
     "duration": 0.004416,
     "end_time": "2022-06-02T13:55:32.716802",
     "exception": false,
     "start_time": "2022-06-02T13:55:32.712386",
     "status": "completed"
    },
    "tags": []
   },
   "source": [
    "Following the tutorial, the first step is to start exploring a pattern. For example, what is test here is to check for the sex (which I'll do to check that I have the same data as the tutorial):"
   ]
  },
  {
   "cell_type": "code",
   "execution_count": 5,
   "id": "41255c8c",
   "metadata": {
    "execution": {
     "iopub.execute_input": "2022-06-02T13:55:32.728232Z",
     "iopub.status.busy": "2022-06-02T13:55:32.727684Z",
     "iopub.status.idle": "2022-06-02T13:55:32.746234Z",
     "shell.execute_reply": "2022-06-02T13:55:32.745461Z"
    },
    "papermill": {
     "duration": 0.027315,
     "end_time": "2022-06-02T13:55:32.748748",
     "exception": false,
     "start_time": "2022-06-02T13:55:32.721433",
     "status": "completed"
    },
    "tags": []
   },
   "outputs": [
    {
     "name": "stdout",
     "output_type": "stream",
     "text": [
      "% of women who survived: 0.7420382165605095 \n",
      "% of men who survived: 0.18890814558058924\n"
     ]
    }
   ],
   "source": [
    "women = train_data.loc[train_data.Sex == 'female']['Survived']\n",
    "rate_women = sum(women)/len(women)\n",
    "men = train_data.loc[train_data.Sex == 'male']['Survived']\n",
    "rate_men = sum(men)/len(men)\n",
    "\n",
    "print(\"% of women who survived:\", rate_women, \"\\n% of men who survived:\", rate_men)"
   ]
  },
  {
   "cell_type": "markdown",
   "id": "6416114a",
   "metadata": {
    "papermill": {
     "duration": 0.004513,
     "end_time": "2022-06-02T13:55:32.758191",
     "exception": false,
     "start_time": "2022-06-02T13:55:32.753678",
     "status": "completed"
    },
    "tags": []
   },
   "source": [
    "The tutorial proposes to try a random forest model, which I've never done! So I will follow this to start... I will also submit this to compare to eventual further tests.\n",
    "\n",
    "The features chosen are Pclass (ticket class: 1, 2 or 3), sex (male or female), SibSp (# of siblings or spouses aboard), parch (# number of parents / children aboard)"
   ]
  },
  {
   "cell_type": "code",
   "execution_count": 7,
   "id": "c80c1cc5",
   "metadata": {
    "execution": {
     "iopub.execute_input": "2022-06-02T13:55:32.770650Z",
     "iopub.status.busy": "2022-06-02T13:55:32.769719Z",
     "iopub.status.idle": "2022-06-02T13:55:34.395637Z",
     "shell.execute_reply": "2022-06-02T13:55:34.394309Z"
    },
    "papermill": {
     "duration": 1.635253,
     "end_time": "2022-06-02T13:55:34.398369",
     "exception": false,
     "start_time": "2022-06-02T13:55:32.763116",
     "status": "completed"
    },
    "tags": []
   },
   "outputs": [],
   "source": [
    "from sklearn.ensemble import RandomForestClassifier\n",
    "\n",
    "y = train_data['Survived']\n",
    "\n",
    "features = ['Pclass', 'Sex', 'SibSp', 'Parch']\n",
    "X = pd.get_dummies(train_data[features])\n",
    "X_test = pd.get_dummies(test_data[features])"
   ]
  },
  {
   "cell_type": "markdown",
   "id": "f993422b",
   "metadata": {
    "papermill": {
     "duration": 0.004386,
     "end_time": "2022-06-02T13:55:34.407513",
     "exception": false,
     "start_time": "2022-06-02T13:55:34.403127",
     "status": "completed"
    },
    "tags": []
   },
   "source": [
    "Let us now define the model and the fit:"
   ]
  },
  {
   "cell_type": "code",
   "execution_count": 8,
   "id": "1b2996cd",
   "metadata": {
    "execution": {
     "iopub.execute_input": "2022-06-02T13:55:34.419022Z",
     "iopub.status.busy": "2022-06-02T13:55:34.418577Z",
     "iopub.status.idle": "2022-06-02T13:55:34.632287Z",
     "shell.execute_reply": "2022-06-02T13:55:34.631143Z"
    },
    "papermill": {
     "duration": 0.222929,
     "end_time": "2022-06-02T13:55:34.635247",
     "exception": false,
     "start_time": "2022-06-02T13:55:34.412318",
     "status": "completed"
    },
    "tags": []
   },
   "outputs": [],
   "source": [
    "model = RandomForestClassifier(n_estimators=100, max_depth=5, random_state=1)\n",
    "model.fit(X, y)\n",
    "predictions = model.predict(X_test)"
   ]
  },
  {
   "cell_type": "markdown",
   "id": "a263990d",
   "metadata": {
    "papermill": {
     "duration": 0.00478,
     "end_time": "2022-06-02T13:55:34.645126",
     "exception": false,
     "start_time": "2022-06-02T13:55:34.640346",
     "status": "completed"
    },
    "tags": []
   },
   "source": [
    "And finally I save the project and upload it as submission!"
   ]
  },
  {
   "cell_type": "code",
   "execution_count": 9,
   "id": "da1a710e",
   "metadata": {
    "execution": {
     "iopub.execute_input": "2022-06-02T13:55:34.657214Z",
     "iopub.status.busy": "2022-06-02T13:55:34.656782Z",
     "iopub.status.idle": "2022-06-02T13:55:34.666620Z",
     "shell.execute_reply": "2022-06-02T13:55:34.665413Z"
    },
    "papermill": {
     "duration": 0.018858,
     "end_time": "2022-06-02T13:55:34.669065",
     "exception": false,
     "start_time": "2022-06-02T13:55:34.650207",
     "status": "completed"
    },
    "tags": []
   },
   "outputs": [],
   "source": [
    "output = pd.DataFrame({'PassengerId': test_data.PassengerId, 'Survived': predictions})\n",
    "output.to_csv('first_submission.csv', index=False)"
   ]
  },
  {
   "cell_type": "markdown",
   "id": "67999f77",
   "metadata": {},
   "source": [
    "This code gave a score of 0.77511 on Kaggle!"
   ]
  }
 ],
 "metadata": {
  "interpreter": {
   "hash": "25ad6a4be8b7cb5307e079b5c70053dc031a1417502bda203100eef0d9318af0"
  },
  "kernelspec": {
   "display_name": "Python 3.9.12 ('machinelearning')",
   "language": "python",
   "name": "python3"
  },
  "language_info": {
   "codemirror_mode": {
    "name": "ipython",
    "version": 3
   },
   "file_extension": ".py",
   "mimetype": "text/x-python",
   "name": "python",
   "nbconvert_exporter": "python",
   "pygments_lexer": "ipython3",
   "version": "3.9.12"
  },
  "papermill": {
   "default_parameters": {},
   "duration": 15.053123,
   "end_time": "2022-06-02T13:55:35.698864",
   "environment_variables": {},
   "exception": null,
   "input_path": "__notebook__.ipynb",
   "output_path": "__notebook__.ipynb",
   "parameters": {},
   "start_time": "2022-06-02T13:55:20.645741",
   "version": "2.3.4"
  }
 },
 "nbformat": 4,
 "nbformat_minor": 5
}
